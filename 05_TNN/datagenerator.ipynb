{
 "cells": [
  {
   "cell_type": "markdown",
   "id": "5c2e6b33",
   "metadata": {},
   "source": [
    "# Data Generator\n",
    "Created May 2023 HBP<br>"
   ]
  },
  {
   "cell_type": "code",
   "execution_count": 9,
   "id": "785e4bc6",
   "metadata": {},
   "outputs": [
    {
     "name": "stdout",
     "output_type": "stream",
     "text": [
      "\n",
      "Running locally\n",
      "\n"
     ]
    }
   ],
   "source": [
    "import sys\n",
    "\n",
    "try:\n",
    "    \n",
    "    from google.colab import drive\n",
    "    drive.mount('/content/gdrive')\n",
    "    \n",
    "    BASE = '/content/gdrive/My Drive/transformer'\n",
    "    sys.path.append(BASE)\n",
    "    \n",
    "    def pathname(filename):\n",
    "        return f'{BASE:s}/{filename:s}'\n",
    "    \n",
    "    print('\\nIn Google Colab\\n')\n",
    "    \n",
    "except:\n",
    "    \n",
    "    BASE = ''\n",
    "    def pathname(filename):\n",
    "        return filename\n",
    "    \n",
    "    print('\\nRunning locally\\n')\n",
    "\n",
    "import re\n",
    "import numpy as np\n",
    "import random as rn\n",
    "import torch\n",
    "from tqdm import tqdm\n",
    "\n",
    "from IPython.display import display\n",
    "\n",
    "from sympy import symbols, series, simplify, Rational, UnevaluatedExpr, \\\n",
    "    exp, cos, sin, tan, cosh, sinh, tanh, E, sympify\n",
    "from sympy.abc import x\n",
    "a,b,c,d,f,g,h,O = symbols('a,b,c,d,f,g,h,O', real=True)"
   ]
  },
  {
   "cell_type": "code",
   "execution_count": 2,
   "id": "229247e5",
   "metadata": {},
   "outputs": [
    {
     "data": {
      "text/plain": [
       "6001.63511"
      ]
     },
     "execution_count": 2,
     "metadata": {},
     "output_type": "execute_result"
    }
   ],
   "source": [
    "#2**19937-1\n",
    "0.30103*19937"
   ]
  },
  {
   "cell_type": "code",
   "execution_count": null,
   "id": "c0d64ae2",
   "metadata": {},
   "outputs": [],
   "source": []
  },
  {
   "cell_type": "markdown",
   "id": "f83607c0",
   "metadata": {},
   "source": [
    "## Utilities"
   ]
  },
  {
   "cell_type": "code",
   "execution_count": 15,
   "id": "6b10b40a",
   "metadata": {},
   "outputs": [],
   "source": [
    "# pretty print symbolic expression\n",
    "def pprint(expr):\n",
    "    display(sympify(expr))"
   ]
  },
  {
   "cell_type": "code",
   "execution_count": 4,
   "id": "9c8d99bc",
   "metadata": {},
   "outputs": [
    {
     "name": "stderr",
     "output_type": "stream",
     "text": [
      "100%|█████████████████████████████████████| 50000/50000 [40:18<00:00, 20.67it/s]"
     ]
    },
    {
     "name": "stdout",
     "output_type": "stream",
     "text": [
      "\n"
     ]
    },
    {
     "name": "stderr",
     "output_type": "stream",
     "text": [
      "\n"
     ]
    }
   ],
   "source": [
    "filename='seq2seq_data_2terms.txt'\n",
    "N       = 50000\n",
    "    \n",
    "rnd= rn.randint\n",
    "OP = ['+', '-', '/', '*'] \n",
    "EX = ['**2', '**3']\n",
    "FN = ['exp', 'sin', 'cos', 'tan', 'sinh', 'cosh', 'tanh']\n",
    "SC = ['a', 'b', 'c', 'd', 'f', 'g', 'h']\n",
    "\n",
    "datafile= pathname(filename)\n",
    "\n",
    "records = []\n",
    "\n",
    "for n in tqdm(range(N)):\n",
    "    \n",
    "    expr = ''\n",
    "    K = rnd(1, 2)\n",
    "    \n",
    "    for k in range(K):\n",
    "\n",
    "        # choose function\n",
    "        fn = rn.choice(FN)\n",
    "\n",
    "        # choose coefficient of x\n",
    "        nm = rn.choice(SC)\n",
    "\n",
    "        arg= f'{nm:s}*x'\n",
    "\n",
    "        expr += f'{fn:s}({arg:s})'\n",
    "\n",
    "        # choose exponent of function\n",
    "        u = rn.uniform(0, 1)\n",
    "        if u < 0.2:\n",
    "            expr += rn.choice(EX)\n",
    "\n",
    "        # choose operator\n",
    "        expr += rn.choice(OP)\n",
    "\n",
    "    expr   = expr[:-1]\n",
    "    s_expr = str(simplify(expr))\n",
    "\n",
    "    # expand in Taylor series\n",
    "    try:\n",
    "        cmd    = f'y_expr=series({s_expr:s},x)'\n",
    "        exec(cmd)\n",
    "    except:\n",
    "        continue\n",
    "        \n",
    "    y_expr = str(y_expr)\n",
    "\n",
    "    if y_expr.find('x') < 0: continue\n",
    "\n",
    "    s_expr = s_expr.replace(' ', '')\n",
    "    y_expr = y_expr.replace(' ', '')\n",
    "        \n",
    "    expr   = f'{s_expr:s}|{y_expr:s}'\n",
    "    line   = '%s\\n' % expr\n",
    "    records.append(line)\n",
    "\n",
    "    open(datafile, 'a').write(line)\n",
    "\n",
    "print()"
   ]
  },
  {
   "cell_type": "markdown",
   "id": "e5d2b84f",
   "metadata": {},
   "source": [
    "Ensure terms are ordered in increasing powers of $x$."
   ]
  },
  {
   "cell_type": "code",
   "execution_count": null,
   "id": "5322d409",
   "metadata": {},
   "outputs": [],
   "source": []
  },
  {
   "cell_type": "code",
   "execution_count": 16,
   "id": "503d5579",
   "metadata": {},
   "outputs": [
    {
     "name": "stdout",
     "output_type": "stream",
     "text": [
      "51180\n",
      "14635\n",
      "cosh(a*x)**3+tanh(b*x)|1+b*x+3*a**2*x**2/2-b**3*x**3/3+7*a**4*x**4/8+2*b**5*x**5/15+O(x**6)\n"
     ]
    },
    {
     "data": {
      "text/latex": [
       "$\\displaystyle \\cosh^{3}{\\left(a x \\right)} + \\tanh{\\left(b x \\right)}$"
      ],
      "text/plain": [
       "cosh(a*x)**3 + tanh(b*x)"
      ]
     },
     "metadata": {},
     "output_type": "display_data"
    },
    {
     "name": "stdout",
     "output_type": "stream",
     "text": [
      "--------------------\n"
     ]
    },
    {
     "data": {
      "text/latex": [
       "$\\displaystyle 1 + b x - \\frac{b^{3} x^{3}}{3} + \\frac{2 b^{5} x^{5}}{15} + \\frac{3 a^{2} x^{2}}{2} + \\frac{7 a^{4} x^{4}}{8} + O\\left(x^{6}\\right)$"
      ],
      "text/plain": [
       "1 + b*x - b**3*x**3/3 + 2*b**5*x**5/15 + 3*a**2*x**2/2 + 7*a**4*x**4/8 + O(x**6)"
      ]
     },
     "metadata": {},
     "output_type": "display_data"
    },
    {
     "name": "stdout",
     "output_type": "stream",
     "text": [
      "------------------------------------------------------------\n",
      "exp(b*x)*tanh(f*x)**3|f**3*x**3+b*f**3*x**4+x**5*(b**2*f**3/2-f**5)+O(x**6)\n"
     ]
    },
    {
     "data": {
      "text/latex": [
       "$\\displaystyle e^{b x} \\tanh^{3}{\\left(f x \\right)}$"
      ],
      "text/plain": [
       "exp(b*x)*tanh(f*x)**3"
      ]
     },
     "metadata": {},
     "output_type": "display_data"
    },
    {
     "name": "stdout",
     "output_type": "stream",
     "text": [
      "--------------------\n"
     ]
    },
    {
     "data": {
      "text/latex": [
       "$\\displaystyle x^{5} \\left(\\frac{b^{2} f^{3}}{2} - f^{5}\\right) + f^{3} x^{3} + b f^{3} x^{4} + O\\left(x^{6}\\right)$"
      ],
      "text/plain": [
       "x**5*(b**2*f**3/2 - f**5) + f**3*x**3 + b*f**3*x**4 + O(x**6)"
      ]
     },
     "metadata": {},
     "output_type": "display_data"
    },
    {
     "name": "stdout",
     "output_type": "stream",
     "text": [
      "------------------------------------------------------------\n",
      "sin(b*x)**3/tanh(c*x)**3|b**3/c**3+x**2*(-b**5/(2*c**3)+b**3/c)+x**4*(13*b**7/(120*c**3)-b**5/(2*c)+4*b**3*c/15)+O(x**6)\n"
     ]
    },
    {
     "data": {
      "text/latex": [
       "$\\displaystyle \\frac{\\sin^{3}{\\left(b x \\right)}}{\\tanh^{3}{\\left(c x \\right)}}$"
      ],
      "text/plain": [
       "sin(b*x)**3/tanh(c*x)**3"
      ]
     },
     "metadata": {},
     "output_type": "display_data"
    },
    {
     "name": "stdout",
     "output_type": "stream",
     "text": [
      "--------------------\n"
     ]
    },
    {
     "data": {
      "text/latex": [
       "$\\displaystyle x^{2} \\left(- \\frac{b^{5}}{2 c^{3}} + \\frac{b^{3}}{c}\\right) + x^{4} \\cdot \\left(\\frac{13 b^{7}}{120 c^{3}} - \\frac{b^{5}}{2 c} + \\frac{4 b^{3} c}{15}\\right) + \\frac{b^{3}}{c^{3}} + O\\left(x^{6}\\right)$"
      ],
      "text/plain": [
       "x**2*(-b**5/(2*c**3) + b**3/c) + x**4*(13*b**7/(120*c**3) - b**5/(2*c) + 4*b**3*c/15) + b**3/c**3 + O(x**6)"
      ]
     },
     "metadata": {},
     "output_type": "display_data"
    },
    {
     "name": "stdout",
     "output_type": "stream",
     "text": [
      "------------------------------------------------------------\n",
      "exp(3*h*x)+tanh(h*x)|1+4*h*x+9*h**2*x**2/2+25*h**3*x**3/6+27*h**4*x**4/8+259*h**5*x**5/120+O(x**6)\n"
     ]
    },
    {
     "data": {
      "text/latex": [
       "$\\displaystyle e^{3 h x} + \\tanh{\\left(h x \\right)}$"
      ],
      "text/plain": [
       "exp(3*h*x) + tanh(h*x)"
      ]
     },
     "metadata": {},
     "output_type": "display_data"
    },
    {
     "name": "stdout",
     "output_type": "stream",
     "text": [
      "--------------------\n"
     ]
    },
    {
     "data": {
      "text/latex": [
       "$\\displaystyle 1 + 4 h x + \\frac{9 h^{2} x^{2}}{2} + \\frac{25 h^{3} x^{3}}{6} + \\frac{27 h^{4} x^{4}}{8} + \\frac{259 h^{5} x^{5}}{120} + O\\left(x^{6}\\right)$"
      ],
      "text/plain": [
       "1 + 4*h*x + 9*h**2*x**2/2 + 25*h**3*x**3/6 + 27*h**4*x**4/8 + 259*h**5*x**5/120 + O(x**6)"
      ]
     },
     "metadata": {},
     "output_type": "display_data"
    },
    {
     "name": "stdout",
     "output_type": "stream",
     "text": [
      "------------------------------------------------------------\n",
      "cos(d*x)*tanh(g*x)|g*x+x**3*(-d**2*g/2-g**3/3)+x**5*(d**4*g/24+d**2*g**3/6+2*g**5/15)+O(x**6)\n"
     ]
    },
    {
     "data": {
      "text/latex": [
       "$\\displaystyle \\cos{\\left(d x \\right)} \\tanh{\\left(g x \\right)}$"
      ],
      "text/plain": [
       "cos(d*x)*tanh(g*x)"
      ]
     },
     "metadata": {},
     "output_type": "display_data"
    },
    {
     "name": "stdout",
     "output_type": "stream",
     "text": [
      "--------------------\n"
     ]
    },
    {
     "data": {
      "text/latex": [
       "$\\displaystyle x^{3} \\left(- \\frac{d^{2} g}{2} - \\frac{g^{3}}{3}\\right) + x^{5} \\left(\\frac{d^{4} g}{24} + \\frac{d^{2} g^{3}}{6} + \\frac{2 g^{5}}{15}\\right) + g x + O\\left(x^{6}\\right)$"
      ],
      "text/plain": [
       "x**3*(-d**2*g/2 - g**3/3) + x**5*(d**4*g/24 + d**2*g**3/6 + 2*g**5/15) + g*x + O(x**6)"
      ]
     },
     "metadata": {},
     "output_type": "display_data"
    },
    {
     "name": "stdout",
     "output_type": "stream",
     "text": [
      "------------------------------------------------------------\n",
      "     14000\n",
      "saving 14367 lines...\n",
      "done!\n"
     ]
    }
   ],
   "source": [
    "filename ='seq2seq_data_2terms.txt'\n",
    "LOAD = True\n",
    "\n",
    "if LOAD:\n",
    "    records = open(filename).readlines()\n",
    "\n",
    "# remove duplicate lines\n",
    "print(len(records))\n",
    "recs = list(set(records))\n",
    "print(len(recs))\n",
    "\n",
    "data = [x.strip().split('|') for x in recs]\n",
    "getx = re.compile('x[*][*][1-9]|x')\n",
    "\n",
    "records = []\n",
    "j = 0\n",
    "for i, (src, trg) in enumerate(data):\n",
    "    if src.find('n*') > 0: continue\n",
    "        \n",
    "    trg = [str(x) for x in sympify(trg).as_ordered_terms()]\n",
    "    \n",
    "    Ord = trg[-1]    # O(x**6)\n",
    "    trg = trg[:-1]   # all terms except O(x**6)\n",
    "    if len(trg) == 0: continue\n",
    "    \n",
    "    xp  = [getx.findall(x) for x in trg]\n",
    "    tt  = list(zip(xp, trg))\n",
    "    tt.sort()\n",
    "    \n",
    "    xp, trg = zip(*tt)\n",
    "    trg = '+'.join(trg)+'+'+Ord\n",
    "    trg = trg.replace('+-', '-').replace(' ', '')\n",
    "    record = f'{src:s}|{trg:s}'\n",
    "            \n",
    "    j += 1\n",
    "    if j % 1000 == 0:\n",
    "        print(f'\\r{j:10d}', end='')\n",
    "        \n",
    "    if j <= 5:\n",
    "        print(record)\n",
    "        pprint(src)\n",
    "        print('-'*20)\n",
    "        pprint(trg)\n",
    "        print('-'*60)\n",
    "        \n",
    "    records.append(f'{record:s}\\n')\n",
    "    \n",
    "print()\n",
    "print(f'saving {len(records):d} lines...')\n",
    "open('seq2seq_series_2terms.txt', 'w').writelines(records)\n",
    "print('done!')"
   ]
  },
  {
   "cell_type": "code",
   "execution_count": 46,
   "id": "a55f3684",
   "metadata": {},
   "outputs": [],
   "source": []
  }
 ],
 "metadata": {
  "kernelspec": {
   "display_name": "Python 3 (ipykernel)",
   "language": "python",
   "name": "python3"
  },
  "language_info": {
   "codemirror_mode": {
    "name": "ipython",
    "version": 3
   },
   "file_extension": ".py",
   "mimetype": "text/x-python",
   "name": "python",
   "nbconvert_exporter": "python",
   "pygments_lexer": "ipython3",
   "version": "3.11.0"
  }
 },
 "nbformat": 4,
 "nbformat_minor": 5
}
