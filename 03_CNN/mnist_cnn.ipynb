{
 "cells": [
  {
   "cell_type": "markdown",
   "metadata": {},
   "source": [
    "# Convolutional Neural Networks (CNN)\n",
    "\n",
    "> __Created__: Fall 2021, LPC Statistics Course 2021, Harrison B. Prosper<br>\n",
    "> __Updated__: Mar. 20, 2023, CLASHEP 2023, San Esteban, Chile<br>\n",
    " > __Updated__: June 28, 2023 for Terascale 2023, DESY, Hamburg, Germany\n",
    " \n",
    " \n",
    "## Task\n",
    "Use a convolutional neural network (CNN) to classify the handwritten digits in the MNIST data set. \n",
    "\n",
    "## Introduction\n",
    "In this notebook, we use a convolutional neural network (CNN) to classify the handwritten digits in the MNIST data set. Each image is represented by a $(28, 28)$ matrix, with matrix element values in the set $[0, 1/255, \\cdots, 1]$. In practice, a __batch__ of images is stored in a 4-index tensor $\\mathbf{x}_{ncij}$ of __shape__ $(n, C, H, W)$. Think of this as a 4-dimensional array each cell of which contains a pixel value. The first index (dim = 0) labels the ordinal value (position) of an image in a batch of $n \\ll N$ images, where $N$ is size of the training sample; the second index (dim = 1) labels the number of __channels__, $C$, that is, image planes, which for a gray scale image is $C = 1$, and would be $C = 3$ for a red, green, blue (RGB) image, while the last two indices (dim = 2, 3) label the pixels of an image of height and width $H$ and $W$, respectively. \n",
    "\n",
    "### Model\n",
    "\n",
    "A typical convolutional neural network (CNN) comprises an alternating sequence of convolutional and coarse-graining (or __down-sampling__) layers ending with a fully connected feedforward neural network or a CNN. A convolutional layer cross-correlates its inputs with a kernel, while (typically) increasing the number of output channels. The coarse-graining layer takes in one or more planes of images, that is, channels, and creates output images of smaller size. Here is a high-level view of the model we shall fit,\n",
    "\n",
    "\\begin{align*}\n",
    "\\mathbf{y} & = \\mbox{softmax}(\\mathbf{b}_2 + {\\rm fn} (\\mathbf{w}_2, \\mathbf{b}_1 + {\\rm cc}(\\mathbf{w}_1, \\, \\mathbf{b}_0 + {\\rm cc}(\\mathbf{w}_0, \\, \\mathbf{x}) \\, ) \\,)\\,),\n",
    "\\end{align*}\n",
    "\n",
    "where $\\mathbf{b}$ and $\\mathbf{w}$, the biases and weights, are the parameters of the model and the functions __softmax__, __fn__, and __cc__ are defined as follows:\n",
    "\n",
    "  * __softmax__ For $K$ output classes, \n",
    "\\begin{align*}\n",
    "\\mbox{softmax}(x_k) & = \\frac{\\exp(x_{k})}{\\sum_{j=1}^{K} \\exp(x_{j})} ,\n",
    "\\end{align*}\n",
    "where $x_{k}$ denotes the $k^\\mbox{th}$ output of the previous layer. The\n",
    "softmax function\n",
    "is used to bound the output values to the unit interval and ensure that \n",
    "their sum is unity. \n",
    "\n",
    "  * __fn__ Given tensors $\\mathbf{w}$ and $\\mathbf{x}$, this function operates *element-wise* on its inputs and returns \n",
    "  \n",
    "  $$\\text{fn}(\\mathbf{w}, \\mathbf{x}) = \\mathbf{w} \\, \\text{flatten}(\\, \\text{relu}(\\,\\text{maxpool}(\\,\\mathbf{x}\\,)\\,)\\,).$$\n",
    "\n",
    "\n",
    "  * __cc__ Given tensors $\\mathbf{w}$ and $\\mathbf{x}$, this function returns their cross-correlation.\n",
    "\n",
    "    $$\\mathbf{x}_{kij} = \\sum_{c=1}^{C} \\sum_{r=-2}^2 \\sum_{s=-2}^2  \\mathbf{x}_{c,\\, i+r,\\,j+s} \\, \\mathbf{w}_{kcrs} .$$\n",
    "\n",
    "  * __flatten__ Given tensor $\\mathbf{x}$, this function restructures $\\mathbf{x}$ into a 1D tensor (a 1D array).\n",
    "\n",
    "  * __relu__ Given tensor $\\mathbf{x}$, the function \n",
    "\\begin{align*}\n",
    "{\\rm relu}(x) &= \\begin{cases}\n",
    "    x, & \\text{if } x \\gt 0\\\\\n",
    "    0              & \\text{otherwise}.\n",
    "\\end{cases}\n",
    "\\end{align*}\n",
    "is applied\n",
    "*element-wise*, that is, to every element of the tensor.\n",
    "\n",
    "  * __maxpool__ Given tensor $\\mathbf{x}$, this function uses a moveable window to apply a coarse-graining operation over $\\mathbf{x}$. In effect, the moveable window  splits the tensor into non-overlapping pieces. Then, for each piece, the maximum value within that piece is returned. For example, if $\\mathbf{x}$ is a 2D tensor, e.g., a matrix, of shape (28, 28), and the window is of shape (2, 2), maxpool splits the original matrix into non-overlapping pieces of shape (2,2) and returns the maximum value within each piece, thereby creating a new matrix of shape (14, 14).\n",
    "\n",
    "\n",
    "\n",
    "A high-level view is a good way to represent the structure of a model.  But, it is also good to try to understand the details...at least once. As is often true, a detailed mathematical description of a complicated function is made easier using an example. \n",
    "\n",
    "#### Convolutional layer\n",
    "The data into the first convolutional layer are a sequence of single channel (gray scale) images $\\mathbf{x}$ of shape $(n, C, H, W)=(n, 1, 28, 28)$, that is, the data  form a tensor comprising $n$ images, each with a single channel ($C = 1)$, and each a $(28, 28)$ matrix of pixels. This tensor is cross-correlated with a 4D tensor of weights $\\mathbf{w}_0$, with shape $(4, 1, 5, 5)$. We shall refer to the latter as a __kernel__ and each of its $4 \\times 1$ $(5, 5)$ matrices (or 2D tensors) as a __filter__. The first index of the kernel is the number of __output channels__ (here, 4), the second is the number of __input channels__ (here, 1). Therefore, a given $(5, 5)$ filter is identified by two indices: its output and input channel numbers. The last two indices of the kernel are the height (5) and width (5), respectively, of its filters. \n",
    "\n",
    "(Unfortunately, the jargon is not consistent across the machine learning literature. What we call a filter is indeed often referred to as a filter, but it is also called a kernel, and what we call a kernel, that is, a stack of one or more filters, often has no specific name attached to it!) \n",
    "\n",
    "The operation of the convolutional layer for filters with odd-numbered height and width, e.g. $(5, 5)$, can be written as\n",
    "\n",
    "\\begin{align}\n",
    "    (\\mathbf{b}_0)_k + (\\mathbf{w}_0 \\otimes \\mathbf{x})_{nkij} &= (\\mathbf{b}_0)_k + \\sum_{c=0}^{C-1} \\sum_{r=-2}^2 \\sum_{s=-2}^2  \\mathbf{x}_{nc,\\, i+r,\\,j+s} \\, (\\mathbf{w}_0)_{kcrs}, \\quad i, j = 0,\\cdots, 27 ,\n",
    "\\end{align}\n",
    "\n",
    "where, we have chosen to label the central matrix element of a filter with the indices $(0, 0)$ and the other elements with indices that can be positive or negative integers. In the above expression, for a given pixel $i, j$, the filter labeled $k, c$, namely the matrix $(\\mathbf{w}_0)_{kc}$ with matrix elements $(\\mathbf{w}_0)_{kcrs}$, is cross-correlated with channel $c$ of input image $n$ and a sum over the cross-correlated input channels, that is, over the index $c$, is performed, resulting in $k$ output images.\n",
    "\n",
    "However, for the above computations to work as shown, we need (in effect) to surround each image with extra strips of pixels. This operation is called __padding__. In the following, we choose to pad each image with 2 strips of pixels, with value zero. This padding makes it possible to center the $(5, 5)$ filters on every pixel, $i, j$, within the image. Had we used, for example, $(3, 5)$ filters, the appropriate padding shape would be $(1, 2)$, that is, 1 extra strip of pixels along the top and bottom of the image and 2 extra strips along the left and right sides of the image. We are free to make other choices.\n",
    "\n",
    "Since the input image is a $(28, 28)$ matrix padded with 2 strips of pixels around the boundary, and each filter is a $(5, 5)$ matrix,\n",
    "the output of the convolution step will be a tensor of shape $(n, 4, 28, 28)$ provided that we use a __stride__ of 1, that is, if during the cross-correlation, we shift the filters a horizontal or vertical step of 1 pixel. Other choices are possible. By\n",
    "construction, the output of this convolutional layer is $n$, 4-channel images, of the same size, that is, $(H, W) = (28, 28)$, as the original, by choice.\n",
    "\n",
    "#### Coarse-graining layer\n",
    "A convolutional layer is usually followed by a coarse-graining, that is, down-sampling, layer that reduces the number of pixels per image. In this example, the number of pixels in the image created by the convolutional layer is reduced by a factor 2 in both directions; that is, each of the 4 channels of the $(28, 28)$ image is down-sampled into a $(14, 14)$ channel by replacing the corresponding group of pixels of shape $(2, 2)$ with a pixel whose value is set to the largest value among the group of 4 pixels.  This operation, called __max-pooling__, can be expressed as\n",
    "\n",
    "\\begin{align}\n",
    "    {\\rm maxpool}(O)_{nkij} &= \\max{ \\{O_{nk,\\, 2i + r,\\, 2j + s} \\}_{r,\\,s = 0, 1} } \\quad i, j = 0,\\cdots, 13,\n",
    "\\end{align}\n",
    "\n",
    "where $O$ is the output of a convolutional layer. Again, other choices are possible.\n",
    "\n",
    "After max-pooling, the output tensor has shape $(n, 4, 14, 14)$. A relu __activation function__ is applied to each element of this tensor in order to complete one sequence of operations: cross-correlation, down-sampling, and activation. \n",
    "\n",
    "A second convolutional layer follows. This time, however, its input must match the output of the previous max-pooling operation, which contains $n$ sequences of images, each with 4 channels, and each a $(14, \\, 14)$ matrix padded with a 2-pixel boundary. The kernel in this layer contains $16 \\times 4$ $(5, 5)$-filters, that is, it is of shape $(16, 4, 5, 5)$. Each of the 64 $(5, 5)$-filters is cross-correlated with the corresponding input channel. The cross-correlated input channels are then summed pixel by pixel to yield  a 16-channel output image from this layer. In other words, we arrive at an output tensor of size $(n, 16, 14, 14)$.\n",
    "\n",
    "Finally, a second max-pooling layer is applied, which transforms the 16-channel image of shape $(14, 14)$ to a 16-channel image of shape $(7, 7)$. The image is then flattened into a 1D tensor (basically, a 1D array) of size $16 \\times 7 \\times 7 = 784$, which are the inputs of the final linear layer with 10 outputs. Finally, a softmax function is applied to the 10 outputs of the final linear layer so that the 10 outputs of the CNN sum to one. This makes sense because the outputs are estimates of the __class probabilities__, that is, the probabilities that an input image belongs to any one of the ten digit classes. \n",
    "\n",
    "The class with the largest probability among the 10 probabilities is taken as the class to which the input image belongs. This decision strategy is an example of a __greedy policy__: we always go for the best choice. However, the best choice is not necessarily always the best strategy. If we could quantify the confidence level of each of the ten probabilities, it may happen that we decide to choose the next highest probability if the confidence level associated with it was higher than that associated with the largest probability.\n",
    "\n",
    "\n",
    "### Discussion\n",
    "The net effect of the sequence of nested layers, prior to flattening, is to transform an input image, comsisting of one or more channels, into a multi-channel output image. The hope is that the multi-channel output image captures the most relevant features of the input image thereby improving the accuracy of the subsequent classification. \n",
    "\n",
    "But, why use cross-correlation?\n",
    "\n",
    "The intuition behind the cross-correlation operation is that natural images tend to have similar features in different parts of the image. A filter that is sensitive to vertical features would tend to produce an output image that enhances vertical features, while suppressing the expression of horizontal features. It therefore seems plausible that if one could design filters that are sensitive to different image features, the set of filters could potentially transform an image into another in which the most relevant features are enhanced while the least relevant are suppressed. \n",
    "\n",
    "In the early days of image recognition systems, researchers tried to describe in software what they considered to be the most relevant features in images. This proved to be extremely difficult and success was limited. Today hand-coding is no longer necessary because the values of the parameters of the kernels can be determined automatically by minimizing an appropriate (average) loss function. However, the mere fact that a large number of images is needed to fit these parameters is evidence that current machine learning methods and models, while spectacularly successful, are still far removed from human learning methods and models. \n",
    "\n",
    "A young child need be shown labeled objects, cat, dog, doll, truck, car, just a few times before being able to classify them correctly. The child can do this even when the objects are presented to her or him in orientations that differ from the ones used during the \"training phase\". This extraordinary ability suggests that the child's brain constructs a fault tolerant model of each object using only its most relevant features and is able to match rapidly the input image with the stored, or more likely the auto-reconstructed, fault tolerant model. The model is clearly fault tolerant because the child is able to ignore \"faults\" such as viewing the objects in lighting that differs from that used during the \"training phase\", or ignoring the fact that now the car has lost a couple of wheels or the doll is now wearing different clothes and so on. \n",
    "\n",
    "In spite of the truly impressive recent successes, it is clear that machine learning-based artificial intelligence (AI) still has a long way to go. Of course, it could be that the age-old goal of building machines that think like humans is simply the wrong goal. After all, there are already many instances in which researchers have inadvertently succeeded in producing machines that mimic our prejudices, which is hardly progress. Therefore, perhaps we should embrace the \"artificial\" in AI and the possibility that these machines will inevitably \"think\" differently from us. The trick, of course, is to have them \"think\" in a way that improves the human condition. It would not be helpful if, for example, our super-intelligent machine concluded that the best way to solve climate change is to eliminate one of its culprits, namely, the species Homo sapiens!"
   ]
  },
  {
   "cell_type": "code",
   "execution_count": 1,
   "metadata": {},
   "outputs": [],
   "source": [
    "import os, sys\n",
    "import pandas as pd\n",
    "import numpy as np\n",
    "import random as rd\n",
    "\n",
    "import matplotlib as mp\n",
    "import matplotlib.pyplot as plt\n",
    "\n",
    "import imageio as im\n",
    "import torch\n",
    "import torch.nn as nn\n",
    "import torch.nn.functional as F\n",
    "\n",
    "#  a function to save results\n",
    "import joblib as jb\n",
    "\n",
    "# to reload modules\n",
    "import importlib\n",
    "\n",
    "%matplotlib inline"
   ]
  },
  {
   "cell_type": "code",
   "execution_count": 2,
   "metadata": {},
   "outputs": [],
   "source": [
    "# update fonts\n",
    "FONTSIZE = 14\n",
    "font = {'family' : 'sans-serif',\n",
    "        'weight' : 'normal',\n",
    "        'size'   : FONTSIZE}\n",
    "mp.rc('font', **font)\n",
    "\n",
    "mp.rc('text', usetex=True)\n",
    "\n",
    "# set a seed to ensure reproducibility \n",
    "# on a given machine\n",
    "seed = 128\n",
    "rnd  = np.random.RandomState(seed)"
   ]
  },
  {
   "cell_type": "markdown",
   "metadata": {},
   "source": [
    "### Check available device (GPU or CPU)"
   ]
  },
  {
   "cell_type": "code",
   "execution_count": 3,
   "metadata": {},
   "outputs": [
    {
     "name": "stdout",
     "output_type": "stream",
     "text": [
      "Available device: cpu \n"
     ]
    }
   ],
   "source": [
    "device = torch.device('cuda' if torch.cuda.is_available() else 'cpu')\n",
    "print(f'Available device: {str(device):4s}')"
   ]
  },
  {
   "cell_type": "markdown",
   "metadata": {},
   "source": [
    "## Load MNIST data\n",
    "\n",
    "Load MNIST data and show a few images from the training set."
   ]
  },
  {
   "cell_type": "code",
   "execution_count": 4,
   "metadata": {},
   "outputs": [
    {
     "data": {
      "image/png": "[encoded data removed]",
      "text/plain": [
       "<Figure size 800x500 with 10 Axes>"
      ]
     },
     "metadata": {},
     "output_type": "display_data"
    }
   ],
   "source": [
    "train_x = jb.load('../data/mnist_train_x.gz')\n",
    "train_t = jb.load('../data/mnist_train_t.gz')\n",
    "\n",
    "test_x  = jb.load('../data/mnist_test_x.gz')\n",
    "test_t  = jb.load('../data/mnist_test_t.gz')\n",
    "\n",
    "# now let's show some randomly chosen images from the traininng set.\n",
    "count = 0\n",
    "size  = 10\n",
    "plt.figure(figsize=(8, 5))\n",
    "\n",
    "for i in np.random.permutation(train_x.shape[0])[:size]:\n",
    "    count = count + 1\n",
    "    plt.subplot(1, size, count)\n",
    "    plt.axhline('')\n",
    "    plt.axvline('')\n",
    "    plt.text(x=10, y=-10, s=train_t[i], fontsize=FONTSIZE)\n",
    "    plt.imshow(train_x[i].reshape(28, 28), cmap=\"gray\")\n",
    "    plt.savefig('mnist_images.png')\n",
    "    \n",
    "plt.show()"
   ]
  },
  {
   "cell_type": "markdown",
   "metadata": {},
   "source": [
    "### Plot a few  images in more detail\n",
    "Use imshow(..) and show() to display the image."
   ]
  },
  {
   "cell_type": "code",
   "execution_count": 5,
   "metadata": {},
   "outputs": [],
   "source": [
    "def plotImages(x, n_rows=2, n_cols=2, f_size=(5, 5)):\n",
    "    f, ax = plt.subplots(nrows=n_rows, \n",
    "                         ncols=n_cols, \n",
    "                         figsize=f_size)\n",
    "    \n",
    "    # note use of flatten() to convert a matrix of shape (nrows, ncols)\n",
    "    # to a 1-d array.\n",
    "    d = np.arange(0.5, 28.05, 1)\n",
    "    for image, ax in zip(x, ax.flatten()):\n",
    "        #ax.axis('off')\n",
    "        ax.tick_params(axis='x', colors='white')\n",
    "        ax.tick_params(axis='y', colors='white')\n",
    "\n",
    "        ax.imshow(image.reshape(28, 28), cmap='gray')\n",
    "\n",
    "        ax.set_xticks(d, minor=False)\n",
    "        ax.set_yticks(d, minor=False)\n",
    "        ax.xaxis.grid(True, which='major')\n",
    "        ax.yaxis.grid(True, which='major')\n",
    "\n",
    "    plt.savefig('mnist_images.png')\n",
    "    plt.show()"
   ]
  },
  {
   "cell_type": "code",
   "execution_count": 6,
   "metadata": {},
   "outputs": [
    {
     "data": {
      "image/png": "[encoded data removed]",
      "text/plain": [
       "<Figure size 500x500 with 4 Axes>"
      ]
     },
     "metadata": {},
     "output_type": "display_data"
    }
   ],
   "source": [
    "plotImages(train_x)"
   ]
  },
  {
   "cell_type": "markdown",
   "metadata": {},
   "source": [
    "### Prepare training and validation sets\n",
    "\n",
    "Convert to PyTorch tensors."
   ]
  },
  {
   "cell_type": "code",
   "execution_count": 7,
   "metadata": {},
   "outputs": [
    {
     "name": "stdout",
     "output_type": "stream",
     "text": [
      "number of images for training:        50000\n",
      "number of images for validation:      10000\n",
      "validation batch size:                 5000\n",
      "number of images for testing:         10000\n"
     ]
    }
   ],
   "source": [
    "train_fraction = 5/6        # fraction of data used for training\n",
    "\n",
    "M = int(train_fraction*len(train_x))\n",
    "train_x, valid_x = train_x[:M], train_x[M:]\n",
    "train_t, valid_t = train_t[:M], train_t[M:]\n",
    "\n",
    "n_train   = len(train_x)\n",
    "n_valid   = len(valid_x)\n",
    "n_test    = len(test_x)\n",
    "n_valid_b = 5000\n",
    "\n",
    "def dataframe2tensor(x, t):\n",
    "    # change from pandas dataframe to PyTorch tensors\n",
    "    # and load data to device.\n",
    "    x = torch.tensor(x).float().to(device)\n",
    "    t = torch.tensor(t).int().to(device)\n",
    "    return x, t\n",
    "\n",
    "train_x, train_t = dataframe2tensor(train_x, train_t)\n",
    "valid_x, valid_t = dataframe2tensor(valid_x, valid_t)\n",
    "test_x,  test_t  = dataframe2tensor(test_x,  test_t)\n",
    "\n",
    "print(\"number of images for training:   %10d\" % n_train)\n",
    "print(\"number of images for validation: %10d\" % n_valid)\n",
    "print(\"validation batch size:           %10d\" % n_valid_b)\n",
    "print(\"number of images for testing:    %10d\" % n_test)"
   ]
  },
  {
   "cell_type": "markdown",
   "metadata": {},
   "source": []
  },
  {
   "cell_type": "markdown",
   "metadata": {},
   "source": [
    "### Define model\n",
    "\n",
    "#### Layer normalization\n",
    "\n",
    "We shall use layer normalization to ensure that inputs into every layer of the machine learning (ML) model are approximately bounded and of order unity. (See https://arxiv.org/abs/1607.06450).\n",
    "\n",
    "$\n",
    "\\begin{align}\n",
    "    y \\leftarrow \\frac{y - \\text{E}(y)}{\\sqrt{\\text{Var}(y) + \\epsilon}}\n",
    "\\end{align}\n",
    "$\n",
    "\n",
    "Here is a simple example of the use of LayerNorm."
   ]
  },
  {
   "cell_type": "code",
   "execution_count": 8,
   "metadata": {},
   "outputs": [
    {
     "name": "stdout",
     "output_type": "stream",
     "text": [
      "\n",
      "original tensor: shape torch.Size([2, 2, 3, 3])\n",
      "\n",
      "tensor([[[[ 1.9215, -0.4985,  0.3597],\n",
      "          [-0.4715,  1.1706, -1.5145],\n",
      "          [ 0.0788, -0.5680,  1.4927]],\n",
      "\n",
      "         [[-0.1638, -0.5203, -0.0574],\n",
      "          [ 0.6221, -0.6837, -0.9427],\n",
      "          [-0.1640, -0.9198, -1.3169]]],\n",
      "\n",
      "\n",
      "        [[[ 0.4799,  0.0393, -0.1273],\n",
      "          [ 0.1492, -0.6274, -1.2355],\n",
      "          [ 0.0071,  0.4538, -0.4235]],\n",
      "\n",
      "         [[-0.8886, -0.7429,  0.8008],\n",
      "          [ 0.9361, -1.1059, -1.4886],\n",
      "          [-0.1002,  0.0660,  1.6630]]]])\n",
      "\n",
      "compute normalized tensor \"by hand\"\n",
      "normalized tensor\n",
      "tensor([[[[ 2.2447, -0.4150,  0.5282],\n",
      "          [-0.3853,  1.4193, -1.5317],\n",
      "          [ 0.2195, -0.4914,  1.7735]],\n",
      "\n",
      "         [[-0.0472, -0.4389,  0.0698],\n",
      "          [ 0.8166, -0.6186, -0.9032],\n",
      "          [-0.0474, -0.8781, -1.3145]]],\n",
      "\n",
      "\n",
      "        [[[ 0.7528,  0.1992, -0.0102],\n",
      "          [ 0.3373, -0.6387, -1.4029],\n",
      "          [ 0.1586,  0.7200, -0.3825]],\n",
      "\n",
      "         [[-0.9669, -0.7838,  1.1560],\n",
      "          [ 1.3261, -1.2400, -1.7209],\n",
      "          [ 0.0238,  0.2326,  2.2396]]]])\n",
      "\n",
      "compute normalized tensor with LayerNorm\n",
      "normalized tensor\n",
      "tensor([[[[ 2.2447, -0.4150,  0.5282],\n",
      "          [-0.3853,  1.4193, -1.5317],\n",
      "          [ 0.2195, -0.4914,  1.7734]],\n",
      "\n",
      "         [[-0.0472, -0.4389,  0.0698],\n",
      "          [ 0.8166, -0.6186, -0.9032],\n",
      "          [-0.0474, -0.8781, -1.3145]]],\n",
      "\n",
      "\n",
      "        [[[ 0.7528,  0.1992, -0.0102],\n",
      "          [ 0.3373, -0.6387, -1.4029],\n",
      "          [ 0.1586,  0.7200, -0.3825]],\n",
      "\n",
      "         [[-0.9669, -0.7838,  1.1560],\n",
      "          [ 1.3261, -1.2400, -1.7209],\n",
      "          [ 0.0238,  0.2326,  2.2396]]]])\n"
     ]
    }
   ],
   "source": [
    "# Create a 4D tensor of shape (2,2,3,3) filled with random numbers\n",
    "x = torch.randn(2, 2, 3, 3)\n",
    "z = torch.zeros(2, 2, 3, 3)\n",
    "\n",
    "print('\\noriginal tensor: shape %s\\n' % str(x.shape))\n",
    "print(x)\n",
    "\n",
    "\n",
    "print('\\ncompute normalized tensor \"by hand\"')\n",
    "m = torch.mean(x[0])\n",
    "v = torch.var(x[0], unbiased=False)\n",
    "z[0] = (x[0] - m)/np.sqrt(v)\n",
    "\n",
    "m = torch.mean(x[1])\n",
    "v = torch.var(x[1], unbiased=False)\n",
    "z[1] = (x[1] - m)/np.sqrt(v)\n",
    "\n",
    "print('normalized tensor')\n",
    "print(z)\n",
    "\n",
    "# with no learning parameters\n",
    "print('\\ncompute normalized tensor with LayerNorm')\n",
    "nm = nn.LayerNorm(x.shape[1:], elementwise_affine=False)\n",
    "y  = nm(x) \n",
    "print('normalized tensor')\n",
    "print(y)"
   ]
  },
  {
   "cell_type": "markdown",
   "metadata": {},
   "source": [
    "Use some notebook magic to write the following cell to a file, which can then be imported into another notebook. "
   ]
  },
  {
   "cell_type": "code",
   "execution_count": 20,
   "metadata": {},
   "outputs": [
    {
     "name": "stdout",
     "output_type": "stream",
     "text": [
      "Overwriting MNIST_CNN.py\n"
     ]
    }
   ],
   "source": [
    "%%writefile MNIST_CNN.py\n",
    "\n",
    "import torch.nn as nn\n",
    "import torch.nn.functional as F\n",
    "\n",
    "class Model(nn.Module):\n",
    "    \n",
    "    def __init__(self):\n",
    "\n",
    "        \"\"\"\n",
    "    A convolutional + fully-connected linear network.\n",
    "        \"\"\" \n",
    "        # call constructor of base (or super, or parent) class\n",
    "        super(Model, self).__init__()\n",
    "        \n",
    "        # Since we are using 5x5 filters, adding zero padding of 2 \n",
    "        # around each image will allow cross-correlation of every \n",
    "        # pixel in the image with the filters. Also, every filter \n",
    "        # will be centered on each pixel as the filters are moved\n",
    "        # around the image. Since every pixel is processed, we obtain \n",
    "        # output images, that is, channels that are the same size as \n",
    "        # the input images.\n",
    "        self.conv0 = nn.Conv2d(in_channels=1,    # input channels\n",
    "                               out_channels=4,   # output channels\n",
    "                               kernel_size=5,    # filter size (5x5)\n",
    "                               stride=1,         # shift by this amount     \n",
    "                               padding=2)        # pad by this amount\n",
    "        \n",
    "        self.conv1 = nn.Conv2d(in_channels=4,    # input channels\n",
    "                               out_channels=16,  # output channels\n",
    "                               kernel_size=5,\n",
    "                               stride=1,\n",
    "                               padding=2)\n",
    "        \n",
    "        # We end with a linear layer. Let's compute the number of\n",
    "        # inputs to that layer. Ignoring the first index of the output\n",
    "        # tensor from conv1, which simply labels the ordinal value of \n",
    "        # the image in the batch of images, we note the following:\n",
    "        # 1. conv0 outputs a tensor of size (4, 28, 28), that is, it\n",
    "        #    outputs 4 image planes, each of shape (28, 28).\n",
    "        #    We then down-sample to a tensor of size (4, 14, 14).\n",
    "        #\n",
    "        # 2. conv1 outputs a tensor of size (16, 14, 14), which will be\n",
    "        #    down-sampled to one of size (16, 7, 7).\n",
    "        #\n",
    "        # 3. Therefore, when flattened, the number of inputs to the\n",
    "        #    linear layer is: 16 * 7 * 7 = 784\n",
    "        self.n_inputs = 16 * 7 * 7\n",
    "        \n",
    "        # 4. We have 10 outputs, one for each digit\n",
    "        self.linear0 = nn.Linear(self.n_inputs, 10)\n",
    "    \n",
    "    # define (required) method to compute output of network\n",
    "    def forward(self, x):\n",
    "        # conv0 expects a 4-d tensor of shape \n",
    "        # (batch_size, channels, width, height). So we must reshape x. \n",
    "        # Note: -1 means the number of instances in the batch of \n",
    "        # images is inferred at runtime from x.\n",
    "        y = x.view(-1, 1, 28, 28)\n",
    "        \n",
    "        # 1. cross-correlate the input tensor of shape (-1, 1, 28, 28),\n",
    "        #    padded with a 2-pixel wide strip, with a (4, 1, 5, 5) \n",
    "        #    kernel, thereby producing an output tensor of shape \n",
    "        #    (-1, 4, 28, 28).\n",
    "        y = self.conv0(y)\n",
    "        \n",
    "        # 2. normalize images (over all channels and pixels, but not\n",
    "        #    the batch).\n",
    "        y = F.layer_norm(y, y.shape[1:])\n",
    "        \n",
    "        # 3. down-sample with a (2,2) window, which shifts horizontally\n",
    "        #    and vertically 2 pixels at a time. This replaces the 4\n",
    "        #    (28, 28) channels by 4 (14, 14) channels, by replacing a \n",
    "        #    group of 2x2 pixels in an input channel with a single\n",
    "        #    pixel. The output tensor at this stage has shape \n",
    "        #    (-1, 4, 14, 14).\n",
    "        y = F.max_pool2d(y, 2)\n",
    "        \n",
    "        # 4. apply a relu non-linearity to every element of this tensor;\n",
    "        # that is, apply the relu element-wise\n",
    "        y = F.relu(y)\n",
    "        \n",
    "        # 1. cross-correlate a (-1, 4, 14, 14) tensor, padded as above, \n",
    "        #    with a (16, 4, 5, 5) kernel and, for each (5, 5) filter, \n",
    "        #    sum over the 4 input channels. Since the kernel contains \n",
    "        #    16 output channels, the end result is a 16-channel image. \n",
    "        #    The output therefore has shape (-1, 16, 14, 14).\n",
    "        y = self.conv1(y) \n",
    "        \n",
    "        # 2. normalize the images.\n",
    "        # 3. down-sample with a (2,2) window, as above, thereby \n",
    "        #    creating an output tensor of shape (-1, 16, 7, 7).\n",
    "        # 4. apply a relu function element-wise (as above).\n",
    "              \n",
    "        #y = F.layer_norm(y, y.shape[1:])\n",
    "        y = F.max_pool2d(y, 2)\n",
    "        y = F.relu(y)\n",
    "       \n",
    "        # flatten the tensor (-1, 16, 7, 7) to the tensor (-1, 16*7*7).\n",
    "        y = y.view(-1, self.n_inputs)\n",
    "        \n",
    "        # During training, randomly dropout, that is, zero, \n",
    "        # half of the elements in the current tensor y. dropout has\n",
    "        # been shown to improve the training and yield better results.\n",
    "        # Dropout effectively deactivates all the weights attached \n",
    "        # to the zeroed element. Alternatively, it can be thought of as a\n",
    "        # way to apply random modifications to a multi-channel image by\n",
    "        # randomly setting half the pixels to zero at each iteration.\n",
    "        y = F.dropout(y, p=0.5, training=self.training)\n",
    "    \n",
    "        # Apply a linear transformation to the (-1, 784) tensor.\n",
    "        y = self.linear0(y)\n",
    "        \n",
    "        # Apply the softmax function horizontally, i.e., along \n",
    "        # the class axis (dim=1) in order to ensure that the outputs \n",
    "        # sum to unity.\n",
    "        # (Note: dim=0 is vertical, that is, along the batch axis.)\n",
    "        \n",
    "        # Final output: estimated class probabilities for ith image,\n",
    "        #   q_i(k) = exp(y_i(k) / sum_j exp(y_i(j)), j = 0,..., K-1,\n",
    "        # where K=10 is the number of classes and y_i(k) is the output \n",
    "        # for the ith feature vector for class index k. \n",
    "        \n",
    "        y = F.softmax(y, dim=1)\n",
    "\n",
    "        return y"
   ]
  },
  {
   "cell_type": "markdown",
   "metadata": {},
   "source": [
    "### Define loss function"
   ]
  },
  {
   "cell_type": "code",
   "execution_count": 21,
   "metadata": {},
   "outputs": [],
   "source": [
    "class AverageLoss():\n",
    "    def __init__(self):\n",
    "        pass\n",
    "    \n",
    "    def __call__(self, outputs, targets):\n",
    "        \"\"\"\n",
    "        outputs:  shape (batch_size, number_classes), pre-softmax outputs\n",
    "        targets:  shape (batch_size, ), class indices [0,...,C-1] \n",
    "        \"\"\"        \n",
    "        # ---------------------------------------------------------------       \n",
    "        # The cross entropy is defined by\n",
    "        #   H(p, q) = -sum_i p_i log(q_i)\n",
    "        #\n",
    "        # The entropy is defined by\n",
    "        #   H(p)    = -sum_i p_i log(p_i)\n",
    "        #\n",
    "        # and the Kullback-Leibler divergence by\n",
    "        #   D(p||q) = -sum_i p_i log(p_i/q_i)\n",
    "        #           = -sum_i p_i log(p_i) + sum_i p_i log(q_i)\n",
    "        #           = H(p) - H(p, q)\n",
    "        #\n",
    "        # Therefore, the cross entropy is minimized when the estimated \n",
    "        # probabilities q_i match the true probabilities p_i, in which \n",
    "        # case the cross entropy equals the entropy.\n",
    "        # --------------------------------------------------------------- \n",
    "        \n",
    "        # Note the numpy-like syntax for accessing elements of the\n",
    "        # tensor: outputs[list1, list2] \n",
    "        # Note also: range(batch_size) is [0,...batch_size-1]\n",
    "        #\n",
    "        # outputs is a (-1, 10) tensor. For each image pick the output \n",
    "        # value corresponding to its class. Recall that targets is \n",
    "        # a 1D tensor (basically, a 1D array) of class labels. \n",
    "        # For every row, we pick the value in the column corresponding\n",
    "        # to the class label.\n",
    "        batch_size = len(outputs)\n",
    "        outputs    = outputs[range(batch_size), targets]\n",
    "        return -torch.mean(torch.log(outputs))"
   ]
  },
  {
   "cell_type": "code",
   "execution_count": 22,
   "metadata": {},
   "outputs": [],
   "source": [
    "avloss = AverageLoss()"
   ]
  },
  {
   "cell_type": "markdown",
   "metadata": {},
   "source": [
    "### Get batch\n",
    "Get a random sample from the training set of size $batch\\_size$"
   ]
  },
  {
   "cell_type": "code",
   "execution_count": 24,
   "metadata": {},
   "outputs": [],
   "source": [
    "def randomBatch(x, t, batch_size):\n",
    "    rows = torch.randint(0, len(x)-1, (batch_size,))\n",
    "    return x[rows], t[rows]"
   ]
  },
  {
   "cell_type": "markdown",
   "metadata": {},
   "source": [
    "### Accuracy\n",
    "Fraction of correct predictions"
   ]
  },
  {
   "cell_type": "code",
   "execution_count": 25,
   "metadata": {},
   "outputs": [],
   "source": [
    "def accuracy(outputs, targets):\n",
    "    # For each image, return its predicted class label using argmax.\n",
    "    #\n",
    "    # argmax scans the numpy along the specified axis, here the \n",
    "    # horizontal axis, which is in the class direction, and returns the\n",
    "    # ordinal value of the maximum value, that is, the predicted class. \n",
    "    # Note: outputs must be converted from a tensor to a numpy array \n",
    "    # before being passed to argmax. axis=1 is to numpy what dim=1 is\n",
    "    # to PyTorch.\n",
    "    outputs = np.argmax(outputs.data.numpy(), axis=1)\n",
    "    \n",
    "    # count how often the predicted class matches the actual class and\n",
    "    # compute the fraction of correct predictions. \n",
    "    # Note: targets must be converted to a numpy array for the \n",
    "    # comparison to work since outputs is a numpy array.\n",
    "    return float(np.mean(outputs==targets.data.numpy()))"
   ]
  },
  {
   "cell_type": "markdown",
   "metadata": {},
   "source": [
    "### Trainer"
   ]
  },
  {
   "cell_type": "code",
   "execution_count": 37,
   "metadata": {},
   "outputs": [],
   "source": [
    "def train(model, optimizer, loss_fn, train_x, train_t, batch_size):\n",
    "    \n",
    "    model.train() # training mode\n",
    "    \n",
    "    # get a random sequence of training data\n",
    "    with torch.no_grad():  # no need to compute gradients wrt. to x, t\n",
    "        x, t = randomBatch(train_x, train_t, batch_size)       \n",
    "    \n",
    "    # compute output of model\n",
    "    y    = model(x)\n",
    "    \n",
    "    # compute loss functions, given the model outputs and the targets\n",
    "    loss = loss_fn(y, t) \n",
    "    \n",
    "    optimizer.zero_grad()  # clear previous gradients\n",
    "    \n",
    "    loss.backward()        # compute gradients\n",
    "    \n",
    "    optimizer.step()       # move one step\n",
    "        \n",
    "def validate(model, train_x, train_t, valid_x, valid_t):\n",
    "    \n",
    "    model.eval() # evaluation mode\n",
    "    \n",
    "    with torch.no_grad():  # no need to compute gradients wrt. to x, y\n",
    "        \n",
    "        # to speed things up, use a random subset of n_valid_b images.\n",
    "        x, t  = randomBatch(train_x, train_t, n_valid_b)       \n",
    "        y     = model(x)\n",
    "        acc_t = accuracy(y, t)\n",
    "          \n",
    "        x, t  = randomBatch(valid_x, valid_t, n_valid_b)        \n",
    "        y     = model(x)\n",
    "        acc_v = accuracy(y, t)\n",
    "\n",
    "    return (acc_t, acc_v)\n",
    "               \n",
    "def trainModel(model, optimizer, loss_fn, traces,\n",
    "               train_x, train_t,\n",
    "               valid_x, valid_t,\n",
    "               n_iterations, batch_size, \n",
    "               step=100):\n",
    "    \n",
    "    xx, yy_t, yy_v = traces\n",
    "    if len(xx) == 0:\n",
    "        xxstart = 0\n",
    "    else:\n",
    "        xxstart = xx[-1]\n",
    "   \n",
    "    for ii in range(n_iterations):\n",
    "        \n",
    "        train(model, optimizer, loss_fn, train_x, train_t, batch_size)\n",
    "\n",
    "        if ii % step == 0:\n",
    "            acc_t, acc_v = validate(model, \n",
    "                                    train_x, train_t, \n",
    "                                    valid_x, valid_t)\n",
    "            \n",
    "            print(\"\\r%10d\\t%10.4f\\t%10.4f\" % (ii, acc_t, acc_v), end='')\n",
    "        \n",
    "            xx.append(xxstart+ii)\n",
    "            yy_t.append(acc_t)\n",
    "            yy_v.append(acc_v)\n",
    "    print()\n",
    "    return xx, yy_t, yy_v"
   ]
  },
  {
   "cell_type": "markdown",
   "metadata": {},
   "source": [
    "### Create an instance of the model and choose minimizer"
   ]
  },
  {
   "cell_type": "code",
   "execution_count": 38,
   "metadata": {},
   "outputs": [],
   "source": [
    "def number_of_parameters(model):\n",
    "    return sum(p.numel() for p in model.parameters() if p.requires_grad)"
   ]
  },
  {
   "cell_type": "code",
   "execution_count": 39,
   "metadata": {},
   "outputs": [
    {
     "name": "stdout",
     "output_type": "stream",
     "text": [
      "Model(\n",
      "  (conv0): Conv2d(1, 4, kernel_size=(5, 5), stride=(1, 1), padding=(2, 2))\n",
      "  (conv1): Conv2d(4, 16, kernel_size=(5, 5), stride=(1, 1), padding=(2, 2))\n",
      "  (linear0): Linear(in_features=784, out_features=10, bias=True)\n",
      ")\n",
      "number of parameters: 9570\n"
     ]
    }
   ],
   "source": [
    "import MNIST_CNN as cnn\n",
    "importlib.reload(cnn)\n",
    "model = cnn.Model().to(device)\n",
    "print(model)\n",
    "print(f'number of parameters: {number_of_parameters(model):d}')"
   ]
  },
  {
   "cell_type": "markdown",
   "metadata": {},
   "source": [
    "### Train and validate"
   ]
  },
  {
   "cell_type": "code",
   "execution_count": 45,
   "metadata": {},
   "outputs": [],
   "source": [
    "def plot(traces):\n",
    "\n",
    "    xx, yy_t, yy_v = traces\n",
    "    \n",
    "    # create an empty figure\n",
    "    fig = plt.figure(figsize=(5, 5))\n",
    "    \n",
    "    # add a subplot to it\n",
    "    nrows, ncols, index = 1,1,1\n",
    "    ax  = fig.add_subplot(nrows,ncols,index)\n",
    "    \n",
    "    # axis limits\n",
    "    ax.set_ylim((0.9, 1))\n",
    "    ax.set_xlim((0, xx[-1]))\n",
    "    \n",
    "    ax.plot(xx, yy_t, 'b', label='Training')\n",
    "    ax.plot(xx, yy_v, 'r', label='Validation')\n",
    "    \n",
    "    ax.set_title('Training and Validation Accuracy', fontsize=16)\n",
    "    ax.set_xlabel('Iterations', fontsize=16)\n",
    "    ax.set_ylabel('Accuracy', fontsize=16)\n",
    "    ax.grid(True, which=\"both\", linestyle='-')\n",
    "    \n",
    "    ax.legend(loc='lower right')\n",
    "    \n",
    "    plt.savefig('fig_mnist_accuracy.png')\n",
    "    plt.show()"
   ]
  },
  {
   "cell_type": "code",
   "execution_count": 41,
   "metadata": {},
   "outputs": [],
   "source": [
    "traces   = [[], [], []]"
   ]
  },
  {
   "cell_type": "code",
   "execution_count": 42,
   "metadata": {},
   "outputs": [],
   "source": [
    "n_iter   = 50000    # number of iterations\n",
    "n_batch  =   128    # number of images/training batch\n",
    "learning_rate = 1.e-4\n",
    "\n",
    "optimizer = torch.optim.Adam(model.parameters(), lr=learning_rate)"
   ]
  },
  {
   "cell_type": "code",
   "execution_count": 47,
   "metadata": {},
   "outputs": [],
   "source": [
    "traces = trainModel(model, optimizer, avloss, traces,\n",
    "                            train_x, train_t, \n",
    "                            valid_x, valid_t,\n",
    "                            n_iter,  n_batch, \n",
    "                            step=100)\n",
    "print(\"\\ndone!\")\n",
    "plot(traces)"
   ]
  },
  {
   "cell_type": "code",
   "execution_count": 46,
   "metadata": {},
   "outputs": [
    {
     "data": {
      "image/png": "[encoded data removed]",
      "text/plain": [
       "<Figure size 500x500 with 1 Axes>"
      ]
     },
     "metadata": {},
     "output_type": "display_data"
    }
   ],
   "source": []
  },
  {
   "cell_type": "markdown",
   "metadata": {},
   "source": [
    "### Save model state"
   ]
  },
  {
   "cell_type": "code",
   "execution_count": 33,
   "metadata": {},
   "outputs": [
    {
     "name": "stdout",
     "output_type": "stream",
     "text": [
      "model details\n",
      "number of model parameters: 9570\n",
      "\n",
      "  conv0.weight    \ttorch.Size([4, 1, 5, 5])\n",
      "  conv0.bias      \ttorch.Size([4])\n",
      "  conv1.weight    \ttorch.Size([16, 4, 5, 5])\n",
      "  conv1.bias      \ttorch.Size([16])\n",
      "  linear0.weight  \ttorch.Size([10, 784])\n",
      "  linear0.bias    \ttorch.Size([10])\n"
     ]
    }
   ],
   "source": [
    "print(\"model details\")\n",
    "print('number of model parameters: %d\\n' % number_of_parameters(model))\n",
    "for key in model.state_dict():\n",
    "    print('  %-16s\\t%s' % (key, model.state_dict()[key].size()))\n",
    "torch.save(model.state_dict(), 'mnist_cnn.pth')"
   ]
  },
  {
   "cell_type": "markdown",
   "metadata": {},
   "source": [
    "### Compute accuracy on test data"
   ]
  },
  {
   "cell_type": "code",
   "execution_count": 49,
   "metadata": {},
   "outputs": [
    {
     "name": "stdout",
     "output_type": "stream",
     "text": [
      "Accuracy on test data:  0.990\n"
     ]
    }
   ],
   "source": [
    "model.eval()\n",
    "y = model(test_x)\n",
    "acc = accuracy(y, test_t)\n",
    "print(f'Accuracy on test data: {acc:6.3f}')"
   ]
  },
  {
   "cell_type": "code",
   "execution_count": null,
   "metadata": {},
   "outputs": [],
   "source": []
  }
 ],
 "metadata": {
  "kernelspec": {
   "display_name": "Python 3 (ipykernel)",
   "language": "python",
   "name": "python3"
  },
  "language_info": {
   "codemirror_mode": {
    "name": "ipython",
    "version": 3
   },
   "file_extension": ".py",
   "mimetype": "text/x-python",
   "name": "python",
   "nbconvert_exporter": "python",
   "pygments_lexer": "ipython3",
   "version": "3.11.8"
  }
 },
 "nbformat": 4,
 "nbformat_minor": 4
}
